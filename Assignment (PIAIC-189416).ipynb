{
 "cells": [
  {
   "cell_type": "markdown",
   "id": "1b9a4261",
   "metadata": {},
   "source": [
    "## Assignment 2\n",
    "\n",
    "### Roll No: PIAIC-189416\n",
    "### Name: Muhammad Murtaza Khan"
   ]
  },
  {
   "cell_type": "markdown",
   "id": "4b7ee418",
   "metadata": {},
   "source": [
    "### Task 1"
   ]
  },
  {
   "cell_type": "code",
   "execution_count": 1,
   "id": "aa5be36c",
   "metadata": {},
   "outputs": [
    {
     "name": "stdout",
     "output_type": "stream",
     "text": [
      "['age', 'designation', 'fname', 'name', 'office', 'skinColor']\n",
      "['age', 'cook', 'fname', 'houseWife', 'name', 'skinColor']\n",
      "['age', 'childName', 'cook', 'designation', 'education', 'fname', 'name', 'office', 'religion', 'skinColor', 'study']\n"
     ]
    }
   ],
   "source": [
    "class Mother():\n",
    "\n",
    "  def __init__(self):\n",
    "    self.name = 'shazia'\n",
    "    self.fname = None\n",
    "    self.age = 38\n",
    "    self.skinColor = 'fair'\n",
    "    self.houseWife = True\n",
    "\n",
    "\n",
    "  def cook(self):\n",
    "    return f'{self.name} is cooking'\n",
    "  \n",
    "class Father():\n",
    "\n",
    "  def __init__(self):\n",
    "    self.name = 'sohail'\n",
    "    self.fname = None\n",
    "    self.age = 40\n",
    "    self.skinColor = 'fair'\n",
    "    self.designation = 'employee'\n",
    "\n",
    "  def office(self):\n",
    "    return f'{self.name} is going to office'\n",
    "\n",
    "class Child(Father, Mother):\n",
    "\n",
    "  def __init__(self):\n",
    "    super().__init__()\n",
    "    self.childName = 'Murtaza'\n",
    "    self.education = 'BS'\n",
    "    self.religion = 'Islam'\n",
    "    self.age = 20\n",
    "\n",
    "  def study(self):\n",
    "    return f'{self.childName} is studying {self.education}'\n",
    "\n",
    "father = Father()\n",
    "mother = Mother()\n",
    "child = Child()\n",
    "print([i for i in dir(father) if \"__\" not in i])\n",
    "print([i for i in dir(mother) if \"__\" not in i])\n",
    "print([i for i in dir(child) if \"__\" not in i])\n"
   ]
  },
  {
   "cell_type": "markdown",
   "id": "3f753144",
   "metadata": {},
   "source": [
    "### Task 2"
   ]
  },
  {
   "cell_type": "code",
   "execution_count": 2,
   "id": "b6e54359",
   "metadata": {},
   "outputs": [
    {
     "name": "stdout",
     "output_type": "stream",
     "text": [
      "Muhammad Murtaza Khan\n",
      "15\n"
     ]
    }
   ],
   "source": [
    "class OperatorOverloading():\n",
    "\n",
    "  def __init__(self, a):\n",
    "    self.a = a\n",
    "\n",
    "  def __add__(self, other):\n",
    "    return self.a + other.a\n",
    "\n",
    "first_name = OperatorOverloading('Muhammad Murtaza')\n",
    "last_name = OperatorOverloading(' Khan')\n",
    "\n",
    "first_num = OperatorOverloading(10)\n",
    "sec_num = OperatorOverloading(5)\n",
    "\n",
    "print(first_name + last_name)\n",
    "print(first_num + sec_num)"
   ]
  },
  {
   "cell_type": "code",
   "execution_count": null,
   "id": "6914943f",
   "metadata": {},
   "outputs": [],
   "source": []
  }
 ],
 "metadata": {
  "kernelspec": {
   "display_name": "Python 3 (ipykernel)",
   "language": "python",
   "name": "python3"
  },
  "language_info": {
   "codemirror_mode": {
    "name": "ipython",
    "version": 3
   },
   "file_extension": ".py",
   "mimetype": "text/x-python",
   "name": "python",
   "nbconvert_exporter": "python",
   "pygments_lexer": "ipython3",
   "version": "3.9.12"
  }
 },
 "nbformat": 4,
 "nbformat_minor": 5
}
